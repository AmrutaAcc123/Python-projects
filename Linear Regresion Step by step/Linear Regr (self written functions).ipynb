{
 "cells": [
  {
   "cell_type": "markdown",
   "metadata": {},
   "source": [
    "The Simple Linear Regression\n",
    "The easiest regression model is the simple linear regression:\n",
    "\n",
    "Y = β0 + β1 * x1 + ε.\n",
    "\n",
    "Y is the variable we are trying to predict and is called the dependent variable. X is an independent variable.\n",
    "\n",
    " "
   ]
  },
  {
   "cell_type": "code",
   "execution_count": 22,
   "metadata": {},
   "outputs": [],
   "source": [
    "#import important libraries\n",
    "import pandas as pd\n",
    "import matplotlib.pyplot as pt\n",
    "import numpy as np\n"
   ]
  },
  {
   "cell_type": "code",
   "execution_count": 3,
   "metadata": {},
   "outputs": [],
   "source": [
    "import statsmodels.api as sm"
   ]
  },
  {
   "cell_type": "code",
   "execution_count": 4,
   "metadata": {},
   "outputs": [],
   "source": [
    "#read input excel file\n",
    "data = pd.read_csv(\"1.01. Simple linear regression.csv\")"
   ]
  },
  {
   "cell_type": "code",
   "execution_count": 13,
   "metadata": {},
   "outputs": [
    {
     "data": {
      "text/html": [
       "<div>\n",
       "<style scoped>\n",
       "    .dataframe tbody tr th:only-of-type {\n",
       "        vertical-align: middle;\n",
       "    }\n",
       "\n",
       "    .dataframe tbody tr th {\n",
       "        vertical-align: top;\n",
       "    }\n",
       "\n",
       "    .dataframe thead th {\n",
       "        text-align: right;\n",
       "    }\n",
       "</style>\n",
       "<table border=\"1\" class=\"dataframe\">\n",
       "  <thead>\n",
       "    <tr style=\"text-align: right;\">\n",
       "      <th></th>\n",
       "      <th>SAT</th>\n",
       "      <th>GPA</th>\n",
       "    </tr>\n",
       "  </thead>\n",
       "  <tbody>\n",
       "    <tr>\n",
       "      <th>0</th>\n",
       "      <td>1714</td>\n",
       "      <td>2.40</td>\n",
       "    </tr>\n",
       "    <tr>\n",
       "      <th>1</th>\n",
       "      <td>1664</td>\n",
       "      <td>2.52</td>\n",
       "    </tr>\n",
       "    <tr>\n",
       "      <th>2</th>\n",
       "      <td>1760</td>\n",
       "      <td>2.54</td>\n",
       "    </tr>\n",
       "    <tr>\n",
       "      <th>3</th>\n",
       "      <td>1685</td>\n",
       "      <td>2.74</td>\n",
       "    </tr>\n",
       "    <tr>\n",
       "      <th>4</th>\n",
       "      <td>1693</td>\n",
       "      <td>2.83</td>\n",
       "    </tr>\n",
       "    <tr>\n",
       "      <th>5</th>\n",
       "      <td>1670</td>\n",
       "      <td>2.91</td>\n",
       "    </tr>\n",
       "    <tr>\n",
       "      <th>6</th>\n",
       "      <td>1764</td>\n",
       "      <td>3.00</td>\n",
       "    </tr>\n",
       "    <tr>\n",
       "      <th>7</th>\n",
       "      <td>1764</td>\n",
       "      <td>3.00</td>\n",
       "    </tr>\n",
       "    <tr>\n",
       "      <th>8</th>\n",
       "      <td>1792</td>\n",
       "      <td>3.01</td>\n",
       "    </tr>\n",
       "    <tr>\n",
       "      <th>9</th>\n",
       "      <td>1850</td>\n",
       "      <td>3.01</td>\n",
       "    </tr>\n",
       "    <tr>\n",
       "      <th>10</th>\n",
       "      <td>1735</td>\n",
       "      <td>3.02</td>\n",
       "    </tr>\n",
       "    <tr>\n",
       "      <th>11</th>\n",
       "      <td>1775</td>\n",
       "      <td>3.07</td>\n",
       "    </tr>\n",
       "    <tr>\n",
       "      <th>12</th>\n",
       "      <td>1735</td>\n",
       "      <td>3.08</td>\n",
       "    </tr>\n",
       "    <tr>\n",
       "      <th>13</th>\n",
       "      <td>1712</td>\n",
       "      <td>3.08</td>\n",
       "    </tr>\n",
       "    <tr>\n",
       "      <th>14</th>\n",
       "      <td>1773</td>\n",
       "      <td>3.12</td>\n",
       "    </tr>\n",
       "    <tr>\n",
       "      <th>15</th>\n",
       "      <td>1872</td>\n",
       "      <td>3.17</td>\n",
       "    </tr>\n",
       "    <tr>\n",
       "      <th>16</th>\n",
       "      <td>1755</td>\n",
       "      <td>3.17</td>\n",
       "    </tr>\n",
       "    <tr>\n",
       "      <th>17</th>\n",
       "      <td>1674</td>\n",
       "      <td>3.17</td>\n",
       "    </tr>\n",
       "    <tr>\n",
       "      <th>18</th>\n",
       "      <td>1842</td>\n",
       "      <td>3.17</td>\n",
       "    </tr>\n",
       "    <tr>\n",
       "      <th>19</th>\n",
       "      <td>1786</td>\n",
       "      <td>3.19</td>\n",
       "    </tr>\n",
       "  </tbody>\n",
       "</table>\n",
       "</div>"
      ],
      "text/plain": [
       "     SAT   GPA\n",
       "0   1714  2.40\n",
       "1   1664  2.52\n",
       "2   1760  2.54\n",
       "3   1685  2.74\n",
       "4   1693  2.83\n",
       "5   1670  2.91\n",
       "6   1764  3.00\n",
       "7   1764  3.00\n",
       "8   1792  3.01\n",
       "9   1850  3.01\n",
       "10  1735  3.02\n",
       "11  1775  3.07\n",
       "12  1735  3.08\n",
       "13  1712  3.08\n",
       "14  1773  3.12\n",
       "15  1872  3.17\n",
       "16  1755  3.17\n",
       "17  1674  3.17\n",
       "18  1842  3.17\n",
       "19  1786  3.19"
      ]
     },
     "execution_count": 13,
     "metadata": {},
     "output_type": "execute_result"
    }
   ],
   "source": [
    "data.head(20)\n"
   ]
  },
  {
   "cell_type": "code",
   "execution_count": 6,
   "metadata": {},
   "outputs": [
    {
     "data": {
      "text/html": [
       "<div>\n",
       "<style scoped>\n",
       "    .dataframe tbody tr th:only-of-type {\n",
       "        vertical-align: middle;\n",
       "    }\n",
       "\n",
       "    .dataframe tbody tr th {\n",
       "        vertical-align: top;\n",
       "    }\n",
       "\n",
       "    .dataframe thead th {\n",
       "        text-align: right;\n",
       "    }\n",
       "</style>\n",
       "<table border=\"1\" class=\"dataframe\">\n",
       "  <thead>\n",
       "    <tr style=\"text-align: right;\">\n",
       "      <th></th>\n",
       "      <th>SAT</th>\n",
       "      <th>GPA</th>\n",
       "    </tr>\n",
       "  </thead>\n",
       "  <tbody>\n",
       "    <tr>\n",
       "      <th>count</th>\n",
       "      <td>84.000000</td>\n",
       "      <td>84.000000</td>\n",
       "    </tr>\n",
       "    <tr>\n",
       "      <th>mean</th>\n",
       "      <td>1845.273810</td>\n",
       "      <td>3.330238</td>\n",
       "    </tr>\n",
       "    <tr>\n",
       "      <th>std</th>\n",
       "      <td>104.530661</td>\n",
       "      <td>0.271617</td>\n",
       "    </tr>\n",
       "    <tr>\n",
       "      <th>min</th>\n",
       "      <td>1634.000000</td>\n",
       "      <td>2.400000</td>\n",
       "    </tr>\n",
       "    <tr>\n",
       "      <th>25%</th>\n",
       "      <td>1772.000000</td>\n",
       "      <td>3.190000</td>\n",
       "    </tr>\n",
       "    <tr>\n",
       "      <th>50%</th>\n",
       "      <td>1846.000000</td>\n",
       "      <td>3.380000</td>\n",
       "    </tr>\n",
       "    <tr>\n",
       "      <th>75%</th>\n",
       "      <td>1934.000000</td>\n",
       "      <td>3.502500</td>\n",
       "    </tr>\n",
       "    <tr>\n",
       "      <th>max</th>\n",
       "      <td>2050.000000</td>\n",
       "      <td>3.810000</td>\n",
       "    </tr>\n",
       "  </tbody>\n",
       "</table>\n",
       "</div>"
      ],
      "text/plain": [
       "               SAT        GPA\n",
       "count    84.000000  84.000000\n",
       "mean   1845.273810   3.330238\n",
       "std     104.530661   0.271617\n",
       "min    1634.000000   2.400000\n",
       "25%    1772.000000   3.190000\n",
       "50%    1846.000000   3.380000\n",
       "75%    1934.000000   3.502500\n",
       "max    2050.000000   3.810000"
      ]
     },
     "execution_count": 6,
     "metadata": {},
     "output_type": "execute_result"
    }
   ],
   "source": [
    "data.describe()"
   ]
  },
  {
   "cell_type": "code",
   "execution_count": 14,
   "metadata": {},
   "outputs": [],
   "source": [
    "y = data['GPA']\n",
    "x1 = data['SAT']"
   ]
  },
  {
   "cell_type": "code",
   "execution_count": 15,
   "metadata": {},
   "outputs": [
    {
     "data": {
      "image/png": "[encoded data removed]",
      "text/plain": [
       "<Figure size 432x288 with 1 Axes>"
      ]
     },
     "metadata": {
      "needs_background": "light"
     },
     "output_type": "display_data"
    }
   ],
   "source": [
    "#visualizing the data\n",
    "pt.scatter(x1,y)\n",
    "pt.xlabel('SAT')\n",
    "pt.ylabel('GPA')\n",
    "pt.title('GPA vrs SAT scatter plot')\n",
    "pt.show()"
   ]
  },
  {
   "cell_type": "markdown",
   "metadata": {},
   "source": [
    "A linear regression line has the equation Y = mx+c, where m is the coefficient of independent variable and c is the intercept.\n",
    "\n",
    "The mathematical formula to calculate slope (m) is:\n",
    "\n",
    "(mean(x) * mean(y) – mean(x*y)) / ( mean (x)^2 – mean( x^2))\n",
    "\n",
    "The formula to calculate intercept (c) is:\n",
    "\n",
    "mean(y) – mean(x) * m"
   ]
  },
  {
   "cell_type": "markdown",
   "metadata": {},
   "source": [
    "WE use:\n",
    "m = (x - xbar)(y- ybar)/(x - xbar)^2\n",
    "c = y-Intercept"
   ]
  },
  {
   "cell_type": "code",
   "execution_count": 30,
   "metadata": {},
   "outputs": [
    {
     "name": "stdout",
     "output_type": "stream",
     "text": [
      "1845.2738095238096\n"
     ]
    }
   ],
   "source": [
    "# Calculating mean of x1\n",
    "\n",
    "mean_x1 = np.mean(x1)\n",
    "print(mean_x1)"
   ]
  },
  {
   "cell_type": "code",
   "execution_count": 132,
   "metadata": {
    "collapsed": true
   },
   "outputs": [
    {
     "data": {
      "text/plain": [
       "'def mean(list):\\n    xSum = 0.0;\\n    count = 0;\\n    xbar = 0.0;\\n    for x in list:\\n        xSum = float(x) + xSum;\\n        count = count+1;\\n        xbar= float(xSum)/count;\\n    print(xbar)\\n    '"
      ]
     },
     "execution_count": 132,
     "metadata": {},
     "output_type": "execute_result"
    }
   ],
   "source": [
    "'''def mean(list):\n",
    "    xSum = 0.0;\n",
    "    count = 0;\n",
    "    xbar = 0.0;\n",
    "    for x in list:\n",
    "        xSum = float(x) + xSum;\n",
    "        count = count+1;\n",
    "        xbar= float(xSum)/count;\n",
    "    print(xbar)\n",
    "    '''"
   ]
  },
  {
   "cell_type": "code",
   "execution_count": 162,
   "metadata": {},
   "outputs": [
    {
     "data": {
      "text/plain": [
       "84"
      ]
     },
     "execution_count": 162,
     "metadata": {},
     "output_type": "execute_result"
    }
   ],
   "source": [
    "X =data['SAT'].values\n"
   ]
  },
  {
   "cell_type": "code",
   "execution_count": 163,
   "metadata": {},
   "outputs": [
    {
     "data": {
      "text/plain": [
       "84"
      ]
     },
     "execution_count": 163,
     "metadata": {},
     "output_type": "execute_result"
    }
   ],
   "source": [
    "Y =data['GPA'].values\n",
    "len(Y)"
   ]
  },
  {
   "cell_type": "code",
   "execution_count": 281,
   "metadata": {},
   "outputs": [
    {
     "name": "stdout",
     "output_type": "stream",
     "text": [
      "0.001655688050092815 0.2750402996602781\n"
     ]
    }
   ],
   "source": [
    "# Mean X and Y\n",
    "mean_x = np.mean(X)\n",
    "mean_y = np.mean(Y)\n",
    " \n",
    "# Total number of values\n",
    "n = len(X)\n",
    "\n",
    "def slope_intercept(mean_x,mean_y):\n",
    "    # Using the formula to calculate m and c\n",
    "    numer = 0\n",
    "    denom = 0\n",
    "    for i in range(n):\n",
    "        numer += (X[i] - mean_x) * (Y[i] - mean_y)\n",
    "        denom += (X[i] - mean_x) ** 2\n",
    "        m = numer / denom\n",
    "        c = mean_y - (m * mean_x)\n",
    "\n",
    "slope_intercept(mean_x,mean_y)\n",
    "# Print coefficients\n",
    "print(m, c)"
   ]
  },
  {
   "cell_type": "markdown",
   "metadata": {},
   "source": [
    "The value of m and c from above will be added to this equation\n",
    "\n",
    "y = mx + c\n",
    "GPA = m(SAT) + c\n",
    "\n",
    "Now since we have equation of line. We will predict value of y for each value of x and plot it to get the regression line.\n"
   ]
  },
  {
   "cell_type": "code",
   "execution_count": 133,
   "metadata": {},
   "outputs": [],
   "source": [
    "# Plotting Values and Regression Line\n",
    "min_x = np.min(X)-134\n",
    "max_x =np.max(X)+150"
   ]
  },
  {
   "cell_type": "code",
   "execution_count": 268,
   "metadata": {
    "collapsed": true
   },
   "outputs": [
    {
     "name": "stdout",
     "output_type": "stream",
     "text": [
      "3.112889617519363\n",
      "3.0301052150147223\n",
      "3.1890512678236327\n",
      "3.0648746640666715\n",
      "3.078120168467414\n",
      "3.0400393433152795\n",
      "3.195674020024004\n",
      "3.195674020024004\n",
      "3.242033285426603\n",
      "3.338063192331986\n",
      "3.1476590665713124\n",
      "3.2138865885750247\n",
      "3.1476590665713124\n",
      "3.1095782414191775\n",
      "3.2105752124748395\n",
      "3.374488329434028\n",
      "3.1807728275731684\n",
      "3.0466620955156505\n",
      "3.3248176879312434\n",
      "3.232099157126046\n",
      "3.1907069558737255\n",
      "3.1261351219201057\n",
      "3.0284495269646294\n",
      "3.0681860401668573\n",
      "3.543368510543495\n",
      "3.2983266791297585\n",
      "3.2337548451761386\n",
      "3.290048238879294\n",
      "3.6195301608477646\n",
      "3.2453446615267882\n",
      "3.203952460274468\n",
      "3.4771409885397824\n",
      "3.2138865885750247\n",
      "3.34634163258245\n",
      "3.3877338338347704\n",
      "3.336407504281893\n",
      "3.268524294228088\n",
      "3.5102547495416387\n",
      "3.2171979646752105\n",
      "3.3066051193802224\n",
      "3.3628985130833784\n",
      "3.338063192331986\n",
      "3.5301230061427527\n",
      "3.0930213609182493\n",
      "3.56985951934498\n",
      "3.462239796088947\n",
      "3.295015303029573\n",
      "3.5135661256418245\n",
      "3.349653008682636\n",
      "3.551646950793959\n",
      "3.2585901659275307\n",
      "3.34634163258245\n",
      "3.4324374111872764\n",
      "2.9804345735119377\n",
      "3.3860781457846776\n",
      "3.39932365018542\n",
      "3.139380626320848\n",
      "3.508599061491546\n",
      "3.223820716875582\n",
      "3.4059464023857915\n",
      "3.526811630042567\n",
      "3.268524294228088\n",
      "3.409257778485977\n",
      "3.654299609899714\n",
      "3.409257778485977\n",
      "3.3082608074303153\n",
      "3.338063192331986\n",
      "3.4771409885397824\n",
      "3.356275760883007\n",
      "3.4721739243895042\n",
      "3.4754853004896895\n",
      "3.2188536527253033\n",
      "3.545024198593588\n",
      "3.4771409885397824\n",
      "3.6211858488978574\n",
      "3.6112517205973007\n",
      "3.5814493356956296\n",
      "3.6195301608477646\n",
      "3.3264733759813363\n",
      "3.480452364639968\n",
      "3.2718356703282736\n",
      "3.564892455194702\n",
      "3.523500253942381\n",
      "3.669200802350549\n",
      "[3.11288962 3.03010522 3.18905127 3.06487466 3.07812017 3.04003934\n",
      " 3.19567402 3.19567402 3.24203329 3.33806319 3.14765907 3.21388659\n",
      " 3.14765907 3.10957824 3.21057521 3.37448833 3.18077283 3.0466621\n",
      " 3.32481769 3.23209916 3.19070696 3.12613512 3.02844953 3.06818604\n",
      " 3.54336851 3.29832668 3.23375485 3.29004824 3.61953016 3.24534466\n",
      " 3.20395246 3.47714099 3.21388659 3.34634163 3.38773383 3.3364075\n",
      " 3.26852429 3.51025475 3.21719796 3.30660512 3.36289851 3.33806319\n",
      " 3.53012301 3.09302136 3.56985952 3.4622398  3.2950153  3.51356613\n",
      " 3.34965301 3.55164695 3.25859017 3.34634163 3.43243741 2.98043457\n",
      " 3.38607815 3.39932365 3.13938063 3.50859906 3.22382072 3.4059464\n",
      " 3.52681163 3.26852429 3.40925778 3.65429961 3.40925778 3.30826081\n",
      " 3.33806319 3.47714099 3.35627576 3.47217392 3.4754853  3.21885365\n",
      " 3.5450242  3.47714099 3.62118585 3.61125172 3.58144934 3.61953016\n",
      " 3.32647338 3.48045236 3.27183567 3.56489246 3.52350025 3.6692008 ]\n"
     ]
    }
   ],
   "source": [
    "'''''# Calculating line values x and y\n",
    "#x = np.linspace(min_x,max_x,num=84) \n",
    "y_pred =  m * X + c\n",
    "y_pred\n",
    "\n",
    "for i in range(n):\n",
    "    y_pred2 = c + m * X[i]\n",
    "    print(y_pred2)\n",
    "print(y_pred)'''''"
   ]
  },
  {
   "cell_type": "code",
   "execution_count": 263,
   "metadata": {
    "scrolled": true
   },
   "outputs": [
    {
     "data": {
      "image/png": "[encoded data removed]",
      "text/plain": [
       "<Figure size 432x288 with 1 Axes>"
      ]
     },
     "metadata": {
      "needs_background": "light"
     },
     "output_type": "display_data"
    }
   ],
   "source": [
    "# Plotinxg Line\n",
    "pt.plot(X, y_pred, color='#52b920', label='Regression Line')\n",
    "# Ploting Scatter Points\n",
    "pt.scatter(X, Y, c='#ef4423', label='Scatter Plot')\n",
    "pt.xlabel('SAT')\n",
    "pt.ylabel('GPA')\n",
    "pt.title('Regression line')\n",
    "pt.legend()\n",
    "pt.show()"
   ]
  },
  {
   "cell_type": "markdown",
   "metadata": {},
   "source": [
    "R Square Method – Goodness of Fit\n",
    "R–squared value is the statistical measure to show how close the data are to the fitted regression line\n",
    "\n",
    "Note: R-squared does not indicate whether a regression model is adequate."
   ]
  },
  {
   "cell_type": "markdown",
   "metadata": {},
   "source": [
    "y = actual value\n",
    "\n",
    "y^= mean value of y\n",
    "\n",
    "yp =  predicted value of y\n",
    "\n",
    "\n",
    "R sq = (1 - [(yp - y^)/(y - y^)])"
   ]
  },
  {
   "cell_type": "code",
   "execution_count": 279,
   "metadata": {},
   "outputs": [],
   "source": [
    "#ss_t is the total sum of squares and ss_r is the total sum of squares of residuals(relate them to the formula).\n",
    "def r_square(m,c):\n",
    "    ss_t = 0\n",
    "    ss_r = 0\n",
    "    for i in range(n):\n",
    "        y_pred = c + m * X[i]\n",
    "        ss_r += (Y[i] - y_pred) ** 2\n",
    "        ss_t += (Y[i] - mean_y) ** 2\n",
    "    r2 = 1 - (ss_r/ss_t)\n",
    "    print(r2)"
   ]
  },
  {
   "cell_type": "code",
   "execution_count": 280,
   "metadata": {},
   "outputs": [
    {
     "name": "stdout",
     "output_type": "stream",
     "text": [
      "[0.40600391]\n"
     ]
    }
   ],
   "source": [
    "r_square(m,c)"
   ]
  },
  {
   "cell_type": "markdown",
   "metadata": {},
   "source": [
    "#### Linear Regression – Implementation using scikit learn"
   ]
  },
  {
   "cell_type": "code",
   "execution_count": 277,
   "metadata": {},
   "outputs": [
    {
     "name": "stdout",
     "output_type": "stream",
     "text": [
      "0.40600391479679765\n"
     ]
    }
   ],
   "source": [
    "from sklearn.linear_model import LinearRegression\n",
    "from sklearn.metrics import mean_squared_error\n",
    " \n",
    "# Cannot use Rank 1 matrix in scikit learn\n",
    "X = X.reshape((n, 1))\n",
    "# Creating Model\n",
    "reg = LinearRegression()\n",
    "# Fitting training data\n",
    "reg = reg.fit(X, Y)\n",
    "# Y Prediction\n",
    "Y_pred = reg.predict(X)\n",
    " \n",
    "# Calculating R2 Score\n",
    "r2_score = reg.score(X, Y)\n",
    " \n",
    "print(r2_score)"
   ]
  }
 ],
 "metadata": {
  "kernelspec": {
   "display_name": "Python 3",
   "language": "python",
   "name": "python3"
  },
  "language_info": {
   "codemirror_mode": {
    "name": "ipython",
    "version": 3
   },
   "file_extension": ".py",
   "mimetype": "text/x-python",
   "name": "python",
   "nbconvert_exporter": "python",
   "pygments_lexer": "ipython3",
   "version": "3.7.3"
  }
 },
 "nbformat": 4,
 "nbformat_minor": 2
}
